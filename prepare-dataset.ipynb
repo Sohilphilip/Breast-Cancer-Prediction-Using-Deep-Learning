{
 "cells": [
  {
   "cell_type": "markdown",
   "id": "220eca6d",
   "metadata": {},
   "source": [
    "Only for Execution once"
   ]
  },
  {
   "cell_type": "markdown",
   "id": "1c8e9aa5",
   "metadata": {},
   "source": [
    "Downloaded Dataset Name - Breast Histopathology Images (path - Desktop\\AI Assingments and Projects)"
   ]
  },
  {
   "cell_type": "markdown",
   "id": "57dcd8c7",
   "metadata": {},
   "source": [
    "Prepare the Dataset that we have Downloaded and Extracted and store images for Training and Testing in breastcancerdataset Folder"
   ]
  },
  {
   "cell_type": "markdown",
   "id": "acd08dfe",
   "metadata": {
    "vscode": {
     "languageId": "plaintext"
    }
   },
   "source": [
    "Import Libraries"
   ]
  },
  {
   "cell_type": "code",
   "execution_count": 1,
   "id": "f69a91e5",
   "metadata": {},
   "outputs": [],
   "source": [
    "import os\n",
    "import shutil\n",
    "import random\n",
    "from pathlib import Path"
   ]
  },
  {
   "cell_type": "markdown",
   "id": "7d2423e2",
   "metadata": {},
   "source": [
    "Paths & Target Folders"
   ]
  },
  {
   "cell_type": "code",
   "execution_count": 7,
   "id": "eeebb797",
   "metadata": {},
   "outputs": [],
   "source": [
    "# Paths\n",
    "source_dataset = r\"C:\\Users\\sohil\\OneDrive\\Desktop\\AI Assingments and Projects\\Breast Histopathology Images\"  # Downloaded dataset folder\n",
    "target_root = \"breastcancerdataset\"\n",
    "train_ratio = 0.8  # 80% for training\n",
    "\n",
    "# Target folders\n",
    "categories = {\n",
    "    \"0\": (\"benign\",),    # class 0 → benign\n",
    "    \"1\": (\"malignant\",)  # class 1 → malignant\n",
    "}\n",
    "\n",
    "# Create target folders\n",
    "for split in [\"train\", \"test\"]:\n",
    "    for label_name in [\"benign\", \"malignant\"]:\n",
    "        Path(os.path.join(target_root, split, label_name)).mkdir(parents=True, exist_ok=True)"
   ]
  },
  {
   "cell_type": "markdown",
   "id": "0f3d8c7f",
   "metadata": {},
   "source": [
    "Gather all image paths"
   ]
  },
  {
   "cell_type": "code",
   "execution_count": 4,
   "id": "25b496f5",
   "metadata": {},
   "outputs": [
    {
     "name": "stdout",
     "output_type": "stream",
     "text": [
      "Total images found: 277524\n"
     ]
    }
   ],
   "source": [
    "# Gather all image paths from all subfolders\n",
    "all_images = []\n",
    "\n",
    "for patient_folder in os.listdir(source_dataset):\n",
    "    patient_path = os.path.join(source_dataset, patient_folder)\n",
    "    if os.path.isdir(patient_path):\n",
    "        for label in [\"0\", \"1\"]:  # 0 = benign, 1 = malignant\n",
    "            class_path = os.path.join(patient_path, label)\n",
    "            if os.path.exists(class_path):\n",
    "                for img_file in os.listdir(class_path):\n",
    "                    full_path = os.path.join(class_path, img_file)\n",
    "                    if img_file.endswith(\".png\"):\n",
    "                        all_images.append((full_path, label))\n",
    "\n",
    "print(f\"Total images found: {len(all_images)}\")"
   ]
  },
  {
   "cell_type": "markdown",
   "id": "5dd05baa",
   "metadata": {},
   "source": [
    "Shuffle and split into train/test"
   ]
  },
  {
   "cell_type": "code",
   "execution_count": 5,
   "id": "6addb645",
   "metadata": {},
   "outputs": [],
   "source": [
    "# Shuffle and split into train/test\n",
    "random.shuffle(all_images)\n",
    "train_size = int(train_ratio * len(all_images))\n",
    "\n",
    "train_images = all_images[:train_size]\n",
    "test_images = all_images[train_size:]"
   ]
  },
  {
   "cell_type": "markdown",
   "id": "fe7bdf02",
   "metadata": {},
   "source": [
    "Copy files to destination"
   ]
  },
  {
   "cell_type": "code",
   "execution_count": 6,
   "id": "487c480a",
   "metadata": {},
   "outputs": [
    {
     "name": "stdout",
     "output_type": "stream",
     "text": [
      "Copying training images...\n",
      "Copying testing images...\n",
      "✅ Dataset preparation completed.\n"
     ]
    }
   ],
   "source": [
    "# Function to copy files to destination\n",
    "def copy_images(image_list, split):\n",
    "    for img_path, label in image_list:\n",
    "        target_label = categories[label][0]\n",
    "        target_path = os.path.join(target_root, split, target_label, os.path.basename(img_path))\n",
    "        shutil.copy(img_path, target_path)\n",
    "\n",
    "# Copy train and test images\n",
    "print(\"Copying training images...\")\n",
    "copy_images(train_images, \"train\")\n",
    "\n",
    "print(\"Copying testing images...\")\n",
    "copy_images(test_images, \"test\")\n",
    "\n",
    "print(\"✅ Dataset preparation completed.\")"
   ]
  }
 ],
 "metadata": {
  "kernelspec": {
   "display_name": "AICourse",
   "language": "python",
   "name": "python3"
  },
  "language_info": {
   "codemirror_mode": {
    "name": "ipython",
    "version": 3
   },
   "file_extension": ".py",
   "mimetype": "text/x-python",
   "name": "python",
   "nbconvert_exporter": "python",
   "pygments_lexer": "ipython3",
   "version": "3.10.16"
  }
 },
 "nbformat": 4,
 "nbformat_minor": 5
}
